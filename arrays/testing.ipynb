{
 "cells": [
  {
   "cell_type": "code",
   "execution_count": 1,
   "metadata": {},
   "outputs": [],
   "source": [
    "from typing import List,Optional\n",
    "class Solution:\n",
    "    def twoSumBruteforce_n2(self, nums: List[int], target: int) -> Optional[List[int]]:\n",
    "        for i in range(len(nums)):\n",
    "            for j in range(i+1,len(nums)):\n",
    "                if target-nums[i]==nums[j]:\n",
    "                    return [i,j]\n",
    "        return None\n",
    "\n",
    "    def twoSum_nlogn(self,nums: List[int],target:int) -> Optional[List[int]]:\n",
    "        position_array=nums\n",
    "        if len(nums) and len(nums)>1:\n",
    "            nums=sorted(nums)\n",
    "            start=0\n",
    "            end=len(nums)-1\n",
    "            while(start<end):\n",
    "                if nums[start]+nums[end]==target:\n",
    "                    if nums[start]==nums[end]:\n",
    "                        res=[]\n",
    "                        for idx, val in enumerate(position_array):\n",
    "                            if nums[start]== val:\n",
    "                                res.append(idx)\n",
    "                        return res\n",
    "                    else:\n",
    "                        return [position_array.index(nums[start]),position_array.index(nums[end])]\n",
    "                elif nums[start]+nums[end]>target:\n",
    "                    end-=1\n",
    "                else:\n",
    "                    start+=1\n",
    "\n",
    "        else:\n",
    "            return None\n",
    "\n",
    "    def twoSum_n(self,nums: List[int],target: int)-> Optional[List[int]]:\n",
    "        temp={value:id for id,value in enumerate(nums)}\n",
    "        for i in range(len(nums)):\n",
    "            subtract=target-nums[i]\n",
    "            if subtract in temp and temp[subtract]!=i:\n",
    "                return [i,temp[subtract]]\n",
    "\n",
    "    def twoSum_optimized_n(self,nums:List[int],target:int) -> Optional[List[int]]:\n",
    "        temp={}\n",
    "        for i in range(len(nums)):\n",
    "            if target-nums[i] in temp:\n",
    "                return [temp[target-nums[i]],i]\n",
    "            else:\n",
    "                temp[nums[i]]=i\n",
    "\n",
    "\n",
    "    def removeDuplicates(self, nums: List[int]) -> int:\n",
    "        ## given sorted array need to remove duplicates inplace\n",
    "        pivot:int=1\n",
    "        for i in range(1,len(nums)):\n",
    "            if nums[i-1]!=nums[i]:\n",
    "                nums[pivot]=nums[i]\n",
    "                pivot+=1\n",
    "        return pivot,nums"
   ]
  },
  {
   "cell_type": "code",
   "execution_count": 2,
   "metadata": {},
   "outputs": [
    {
     "name": "stdout",
     "output_type": "stream",
     "text": [
      "(5, [0, 1, 2, 3, 4, 2, 2, 3, 3, 4])\n"
     ]
    }
   ],
   "source": [
    "nums=[0,0,1,1,1,2,2,3,3,4]\n",
    "sol=Solution()\n",
    "#print(sol.twoSum_optimized_n(nums=nums,target=6))\n",
    "print(sol.removeDuplicates(nums=nums))"
   ]
  }
 ],
 "metadata": {
  "interpreter": {
   "hash": "16ab777068ad46bde8cc6546811272d8e1402f13e0a298a6312364fe450de4e6"
  },
  "kernelspec": {
   "display_name": "Python 3.8.11 64-bit ('programming': conda)",
   "language": "python",
   "name": "python3"
  },
  "language_info": {
   "codemirror_mode": {
    "name": "ipython",
    "version": 3
   },
   "file_extension": ".py",
   "mimetype": "text/x-python",
   "name": "python",
   "nbconvert_exporter": "python",
   "pygments_lexer": "ipython3",
   "version": "3.8.11"
  },
  "orig_nbformat": 4
 },
 "nbformat": 4,
 "nbformat_minor": 2
}
